{
 "cells": [
  {
   "cell_type": "code",
   "execution_count": 12,
   "id": "245525de",
   "metadata": {},
   "outputs": [],
   "source": [
    "import numpy as np\n",
    "import pandas as pd"
   ]
  },
  {
   "cell_type": "markdown",
   "id": "8f13fdcd",
   "metadata": {},
   "source": [
    "obs = (\"ПРОПУСК\", \"ЛЕКЦИЯ\", \"ПРАКТИКУМ\") - это наблюдения, то что вбиваем.\n"
   ]
  },
  {
   "cell_type": "code",
   "execution_count": 7,
   "id": "303c4870",
   "metadata": {},
   "outputs": [],
   "source": [
    "obs = (\"ПРОПУСК\", \"ЛЕКЦИЯ\", \"ПРАКТИКУМ\")\n",
    "states = (\"ОТЛИЧНО\", \"ХОРОШО\", \"УДОВЛЕТВОРИТЕЛЬНО\", \"НА_ОТЧИСЛЕНИЕ\")\n",
    "start_p = {\"ОТЛИЧНО\": 0.1, \"ХОРОШО\": 0.24, \"УДОВЛЕТВОРИТЕЛЬНО\": 0.63, \"НА_ОТЧИСЛЕНИЕ\": 0.03}\n",
    "trans_p = {\n",
    "    \"ОТЛИЧНО\": {\"ОТЛИЧНО\": 0.59, \"ХОРОШО\": 0.31, \"УДОВЛЕТВОРИТЕЛЬНО\": 0.09, \"НА_ОТЧИСЛЕНИЕ\": 0.01},\n",
    "    \"ХОРОШО\": {\"ОТЛИЧНО\": 0.035, \"ХОРОШО\": 0.61, \"УДОВЛЕТВОРИТЕЛЬНО\": 0.34, \"НА_ОТЧИСЛЕНИЕ\": 0.015},\n",
    "    \"УДОВЛЕТВОРИТЕЛЬНО\": {\"ОТЛИЧНО\": 0.09, \"ХОРОШО\": 0.261, \"УДОВЛЕТВОРИТЕЛЬНО\": 0.628, \"НА_ОТЧИСЛЕНИЕ\": 0.021},\n",
    "    \"НА_ОТЧИСЛЕНИЕ\": {\"ОТЛИЧНО\": 0, \"ХОРОШО\": 0, \"УДОВЛЕТВОРИТЕЛЬНО\": 0, \"НА_ОТЧИСЛЕНИЕ\": 1},\n",
    "    \n",
    "}\n",
    "emit_p = {\n",
    "    \"ОТЛИЧНО\": {\"ЛЕКЦИЯ\": 0.1481, \"ПРАКТИКУМ\": 0.2778, \"САМ_РАБОТА\": 0.5741, \"ПРОПУСК\": 0},\n",
    "    \"ХОРОШО\": {\"ЛЕКЦИЯ\": 0.1296, \"ПРАКТИКУМ\": 0.2407, \"САМ_РАБОТА\": 0.5741, \"ПРОПУСК\": 0.0556},\n",
    "    \"УДОВЛЕТВОРИТЕЛЬНО\": {\"ЛЕКЦИЯ\": 0.0741, \"ПРАКТИКУМ\": 0.1296, \"САМ_РАБОТА\": 0.2963, \"ПРОПУСК\": 0.5},\n",
    "    \"НА_ОТЧИСЛЕНИЕ\": {\"ЛЕКЦИЯ\": 0.0185, \"ПРАКТИКУМ\": 0.037, \"САМ_РАБОТА\": 0.0926, \"ПРОПУСК\": 0.8519},\n",
    "    \n",
    "    \n",
    "}"
   ]
  },
  {
   "cell_type": "code",
   "execution_count": 8,
   "id": "53c0d830",
   "metadata": {},
   "outputs": [],
   "source": [
    "def viterbi(obs, states, start_p, trans_p, emit_p):\n",
    "    V = [{}]\n",
    "    for st in states:\n",
    "        V[0] [st] = {\"prob\": start_p[st] * emit_p[st] [obs[0]], \"prev\": None}\n",
    "    # Запуск Витерби, когда t > 0\n",
    "    for t in range(1, len(obs)):\n",
    "        V.append({})\n",
    "        for st in states:\n",
    "            max_tr_prob = V[t - 1] [states[0]] [\"prob\"] * trans_p[states[0]] [st] * emit_p[st] [obs[t]]\n",
    "            prev_st_selected = states[0]\n",
    "            for prev_st in states[1:]:\n",
    "                tr_prob = V[t - 1] [prev_st] [\"prob\"] * trans_p[prev_st] [st] * emit_p[st] [obs[t]]\n",
    "                if tr_prob > max_tr_prob:\n",
    "                    max_tr_prob = tr_prob\n",
    "                    prev_st_selected = prev_st\n",
    "\n",
    "            max_prob = max_tr_prob\n",
    "            V[t] [st] = {\"prob\": max_prob, \"prev\": prev_st_selected}\n",
    "\n",
    "    for line in dptable(V):\n",
    "        print(line)\n",
    "\n",
    "    opt = []\n",
    "    max_prob = 0.0\n",
    "    best_st = None\n",
    "    # Получить наиболее вероятное состояние и его обратный путь\n",
    "    for st, data in V[-1].items():\n",
    "        if data[\"prob\"] > max_prob:\n",
    "            max_prob = data[\"prob\"]\n",
    "            best_st = st\n",
    "    opt.append(best_st)\n",
    "    previous = best_st\n",
    "\n",
    "    # Следуйте по обратному пути до первого наблюдения\n",
    "    for t in range(len(V) - 2, -1, -1):\n",
    "        opt.insert(0, V[t + 1] [previous] [\"prev\"])\n",
    "        previous = V[t + 1] [previous] [\"prev\"]\n",
    "\n",
    "    print (\"НАБЛЮДАЕМЫМ ЭТАПАМ ПОВЕДЕНИЯ СТУДЕНТА СООТВЕТСТВУЮТ СЛЕДУЮЩИЕ СОСТОЯНИЯ УСПЕВАЕМОСТИ: \" + \" \".join(opt) + \" С НАИБОЛЬШЕЙ ВЕРОЯТНОСТЬЮ В КРАЙНЕМ НАБЛЮДЕНИИ РАВНОЙ %s\" % max_prob)\n",
    "\n",
    "def dptable(V):\n",
    "    # Распечатайте таблицу шагов из словаря\n",
    "    yield \" \" * 5 + \"     \".join((\"%3d\" % i) for i in range(len(V)))\n",
    "    for state in V[0]:\n",
    "        yield \"%.7s: \" % state + \" \".join(\"%.7s\" % (\"%lf\" % v[state] [\"prob\"]) for v in V)"
   ]
  },
  {
   "cell_type": "markdown",
   "id": "76c3b3f0",
   "metadata": {},
   "source": [
    "Функция viterbi принимает следующие аргументы: obs - последовательность наблюдений, например, ['normal', 'cold', 'dizzy']; states - набор скрытых состояний; start_p - вероятность начала; trans_p - вероятности перехода; и emit_p - вероятности выбросов. Для простоты кода мы предполагаем, что последовательность наблюдений obs непустая и что trans_p[i] [j] и emit_p[i] [j] определены для всех состояний i,j."
   ]
  },
  {
   "cell_type": "code",
   "execution_count": 9,
   "id": "198a382d",
   "metadata": {
    "scrolled": true
   },
   "outputs": [
    {
     "name": "stdout",
     "output_type": "stream",
     "text": [
      "       0       1       2\n",
      "ОТЛИЧНО: 0.00000 0.00419 0.00068\n",
      "ХОРОШО: 0.01334 0.01065 0.00156\n",
      "УДОВЛЕТ: 0.31500 0.01465 0.00119\n",
      "НА_ОТЧИ: 0.02555 0.00047 0.00001\n",
      "НАБЛЮДАЕМЫМ ЭТАПАМ ПОВЕДЕНИЯ СТУДЕНТА СООТВЕТСТВУЮТ СЛЕДУЮЩИЕ СОСТОЯНИЯ УСПЕВАЕМОСТИ: УДОВЛЕТВОРИТЕЛЬНО ХОРОШО ХОРОШО С НАИБОЛЬШЕЙ ВЕРОЯТНОСТЬЮ В КРАЙНЕМ НАБЛЮДЕНИИ РАВНОЙ 0.0015644510819279999\n"
     ]
    }
   ],
   "source": [
    "viterbi(obs,\n",
    "        states,\n",
    "        start_p,\n",
    "        trans_p,\n",
    "        emit_p)"
   ]
  }
 ],
 "metadata": {
  "kernelspec": {
   "display_name": "Python 3 (ipykernel)",
   "language": "python",
   "name": "python3"
  },
  "language_info": {
   "codemirror_mode": {
    "name": "ipython",
    "version": 3
   },
   "file_extension": ".py",
   "mimetype": "text/x-python",
   "name": "python",
   "nbconvert_exporter": "python",
   "pygments_lexer": "ipython3",
   "version": "3.9.13"
  }
 },
 "nbformat": 4,
 "nbformat_minor": 5
}
